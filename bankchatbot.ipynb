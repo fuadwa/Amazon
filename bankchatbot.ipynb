{
  "metadata": {
    "kernelspec": {
      "language": "python",
      "display_name": "Python 3",
      "name": "python3"
    },
    "language_info": {
      "pygments_lexer": "ipython3",
      "nbconvert_exporter": "python",
      "version": "3.6.4",
      "file_extension": ".py",
      "codemirror_mode": {
        "name": "ipython",
        "version": 3
      },
      "name": "python",
      "mimetype": "text/x-python"
    },
    "colab": {
      "provenance": [],
      "include_colab_link": true
    }
  },
  "nbformat_minor": 0,
  "nbformat": 4,
  "cells": [
    {
      "cell_type": "markdown",
      "metadata": {
        "id": "view-in-github",
        "colab_type": "text"
      },
      "source": [
        "<a href=\"https://colab.research.google.com/github/fuadwa/Amazon/blob/main/bankchatbot.ipynb\" target=\"_parent\"><img src=\"https://colab.research.google.com/assets/colab-badge.svg\" alt=\"Open In Colab\"/></a>"
      ]
    },
    {
      "cell_type": "code",
      "source": [
        "import requests\n",
        "\n",
        "# API endpoint for getting latest rates\n",
        "url = 'https://api.frankfurter.app/latest'\n",
        "\n",
        "import requests\n",
        "\n",
        "# API endpoint for getting latest rates\n",
        "url = 'https://api.frankfurter.app/latest'\n",
        "\n",
        "# Base currency and target currencies\n",
        "base_currency = 'USD'\n",
        "target_currencies = ['EUR', 'GBP', 'JPY']\n",
        "\n",
        "# Request parameters\n",
        "params = {\n",
        "    'base': base_currency,\n",
        "    'symbols': ','.join(target_currencies)\n",
        "}\n",
        "\n",
        "# Function to retrieve and format currency rates\n",
        "def get_currency_rates():\n",
        "    # Send GET request to the API\n",
        "    response = requests.get(url, params=params)\n",
        "\n",
        "    # Check if the request was successful\n",
        "    if response.status_code == 200:\n",
        "        data = response.json()\n",
        "        \n",
        "        # Get the rates from the response\n",
        "        rates = data['rates']\n",
        "        \n",
        "        # Format the rates\n",
        "        formatted_rates = []\n",
        "        for currency, rate in rates.items():\n",
        "            formatted_rates.append(f\"{currency}: {rate}\")\n",
        "        \n",
        "        return formatted_rates\n",
        "    else:\n",
        "        return []\n"
      ],
      "metadata": {
        "id": "35nw49helLaS"
      },
      "execution_count": null,
      "outputs": []
    },
    {
      "cell_type": "markdown",
      "source": [],
      "metadata": {
        "id": "vm5-j9IHk2m1"
      }
    },
    {
      "cell_type": "code",
      "source": [
        "!pip install spacy\n",
        "\n"
      ],
      "metadata": {
        "id": "O_bBYulgk4Ty"
      },
      "execution_count": null,
      "outputs": []
    },
    {
      "cell_type": "code",
      "source": [
        "!python -m spacy download en_core_web_lg\n",
        "\n"
      ],
      "metadata": {
        "id": "WiGoKMpwk84i"
      },
      "execution_count": null,
      "outputs": []
    },
    {
      "cell_type": "code",
      "source": [
        "import en_core_web_lg # Large SpaCy model for English language\n",
        "import numpy as np\n",
        "import re # regular expressions\n",
        "import spacy # NLU library\n",
        "\n",
        "from collections import defaultdict\n",
        "from sklearn.svm import SVC # Support Vector Classification model"
      ],
      "metadata": {
        "id": "EuLM_yeJlPyZ"
      },
      "execution_count": null,
      "outputs": []
    },
    {
      "cell_type": "code",
      "source": [
        "output_format = \"You: {input}\\nVirtual Assistant: {output}\\n\" + \"_\"*50"
      ],
      "metadata": {
        "_uuid": "d629ff2d2480ee46fbb7e2d37f6b5fab8052498a",
        "_cell_guid": "79c7e3d0-c299-4dcb-8224-4455121ee9b0",
        "trusted": true,
        "id": "qrgU81ugkO1Z"
      },
      "execution_count": null,
      "outputs": []
    },
    {
      "cell_type": "code",
      "source": [
        "responses_exact = {\n",
        "    \"selam\": \"selam endem koyachehugh\",\n",
        "    \"how can i activate my user id?\": \"If you have opened an account recently, you will find your Internet Banking User ID/ Password in the Welcome Kit provided to you at the time of Account opening.\",\n",
        "    \"default\": \"I did not understand. Please try again.\",\n",
        "    \"give me daily currency\": lambda: \"\\n\".join(get_currency_rates()),\n",
        "}\n",
        "\n",
        "def respond_exact(text):\n",
        "    response = responses_exact.get(text.lower(), responses_exact['default'])\n",
        "    \n",
        "    # Check if the response is a function (currency rates)\n",
        "    if callable(response):\n",
        "        return response()\n",
        "    \n",
        "    return response"
      ],
      "metadata": {
        "trusted": true,
        "id": "PiHx2rALkO1a"
      },
      "execution_count": 65,
      "outputs": []
    },
    {
      "cell_type": "code",
      "source": [
        "print(respond_exact(\"selam\"))\n",
        "print(\"_\"*50)\n",
        "print(respond_exact(\"How can I activate my user ID?\"))\n",
        "print(\"_\"*50)\n",
        "print(respond_exact(\"I forgot my password.\"))\n",
        "print(\"_\"*50)\n",
        "print(respond_exact(\"give me daily currency\"))"
      ],
      "metadata": {
        "trusted": true,
        "colab": {
          "base_uri": "https://localhost:8080/"
        },
        "id": "9d2Sp0SakO1a",
        "outputId": "1306856d-d248-4339-de9d-9719fa9e5eaa"
      },
      "execution_count": 66,
      "outputs": [
        {
          "output_type": "stream",
          "name": "stdout",
          "text": [
            "selam endem koyachehugh\n",
            "__________________________________________________\n",
            "If you have opened an account recently, you will find your Internet Banking User ID/ Password in the Welcome Kit provided to you at the time of Account opening.\n",
            "__________________________________________________\n",
            "I did not understand. Please try again.\n",
            "__________________________________________________\n",
            "EUR: 0.93015\n",
            "GBP: 0.80749\n",
            "JPY: 139.75\n"
          ]
        }
      ]
    },
    {
      "cell_type": "code",
      "source": [
        "intent_keywords = {\n",
        "    'internet_banking': ['net', 'internet', 'login', 'password', 'activate'],\n",
        "    'timings': ['open hours', 'timings', 'schedule', 'closing time','open','time','close','timing','when']\n",
        "}\n",
        "# Create a dictionary of patterns\n",
        "patterns = {intent: re.compile('|'.join(keys)) for intent, keys in intent_keywords.items()}\n",
        "\n",
        "# Define a function to find the intent of a message\n",
        "def get_intent_re(message):\n",
        "    for intent, pattern in patterns.items():\n",
        "        # Check if the pattern occurs in the message \n",
        "        if pattern.search(message):\n",
        "            return(intent)\n",
        "    else:\n",
        "        return('default')\n",
        "\n",
        "responses_re = {\n",
        "    \"internet_banking\":\"You can contact the customer care at 9898999898 for queries regarding internet banking.\",\n",
        "    \"timings\": \"The bank opens at 10:00 hours and closes at 18:00 hours\",\n",
        "    \"default\":\"I did not understand. Please try again.\"\n",
        "}\n",
        "\n",
        "def respond_re(text):\n",
        "    response = responses_re.get(get_intent_re(text))\n",
        "    return(output_format.format(input=text, output=response))"
      ],
      "metadata": {
        "trusted": true,
        "id": "btA-UM_nkO1b"
      },
      "execution_count": null,
      "outputs": []
    },
    {
      "cell_type": "code",
      "source": [
        "print(respond_re(\"How do I activate my net banking account?\"))\n",
        "print(respond_re(\"When will the office be open?\"))\n",
        "print(respond_re(\"How do I cancel my membership?\"))"
      ],
      "metadata": {
        "trusted": true,
        "colab": {
          "base_uri": "https://localhost:8080/"
        },
        "id": "lwzzuj1ZkO1b",
        "outputId": "cee90b31-3f0d-4ad9-e809-ee4847ac30ac"
      },
      "execution_count": null,
      "outputs": [
        {
          "output_type": "stream",
          "name": "stdout",
          "text": [
            "You: How do I activate my net banking account?\n",
            "Virtual Assistant: You can contact the customer care at 9898999898 for queries regarding internet banking.\n",
            "__________________________________________________\n",
            "You: When will the office be open?\n",
            "Virtual Assistant: The bank opens at 10:00 hours and closes at 18:00 hours\n",
            "__________________________________________________\n",
            "You: How do I cancel my membership?\n",
            "Virtual Assistant: I did not understand. Please try again.\n",
            "__________________________________________________\n"
          ]
        }
      ]
    },
    {
      "cell_type": "code",
      "source": [
        "# Create training data\n",
        "training_sentences = [\n",
        "    \"How do I activate my account?\",\n",
        "    \"I do not have a user ID and password. How do I get one?\",\n",
        "    \"I have got my Internet Banking User ID and Password; tell me what do I do?\",\n",
        "    \"How do I register a new biller in Internet Banking?\",\n",
        "    \"The Bank's Internet Banking User ID has expired.\", \n",
        "    \"When does the office open?\",\n",
        "    \"What are the office's open hours?\",\n",
        "    \"When does the bank close?\",\n",
        "    \"What are the timings of the office?\",\n",
        "    \"What is the schedule that the office follows?\"\n",
        "    \n",
        "]\n",
        "training_intents = [\n",
        "    \"internet_banking\",\n",
        "    \"internet_banking\",\n",
        "    \"internet_banking\",\n",
        "    \"internet_banking\",\n",
        "    \"internet_banking\",\n",
        "    \"timings\",\n",
        "    \"timings\",\n",
        "    \"timings\",\n",
        "    \"timings\",\n",
        "    \"timings\"   \n",
        "]"
      ],
      "metadata": {
        "trusted": true,
        "id": "Y-gofwFhkO1c"
      },
      "execution_count": null,
      "outputs": []
    },
    {
      "cell_type": "code",
      "source": [
        "nlp = en_core_web_lg.load()"
      ],
      "metadata": {
        "trusted": true,
        "id": "tgPMZoxQkO1c"
      },
      "execution_count": null,
      "outputs": []
    },
    {
      "cell_type": "code",
      "source": [
        "# Initialize the array with zeros: X\n",
        "X_train = np.zeros((len(training_sentences), \n",
        "              nlp('sentences').vocab.vectors_length))\n",
        "\n",
        "for i, sentence in enumerate(training_sentences):\n",
        "    # Pass each each sentence to the nlp object to create a document\n",
        "    doc = nlp(sentence)\n",
        "    # Save the document's .vector attribute to the corresponding row in X\n",
        "    X_train[i, :] = doc.vector"
      ],
      "metadata": {
        "trusted": true,
        "id": "XBwkATiSkO1d"
      },
      "execution_count": null,
      "outputs": []
    },
    {
      "cell_type": "code",
      "source": [
        "# Create a support vector classifier\n",
        "clf = SVC(C=1, gamma=\"auto\", probability=True)\n",
        "\n",
        "# Fit the classifier using the training data\n",
        "clf.fit(X_train, training_intents)"
      ],
      "metadata": {
        "trusted": true,
        "colab": {
          "base_uri": "https://localhost:8080/",
          "height": 75
        },
        "id": "VIswzgFckO1d",
        "outputId": "32ab0539-f7f0-4b3b-b027-839f894785e1"
      },
      "execution_count": null,
      "outputs": [
        {
          "output_type": "execute_result",
          "data": {
            "text/plain": [
              "SVC(C=1, gamma='auto', probability=True)"
            ],
            "text/html": [
              "<style>#sk-container-id-1 {color: black;background-color: white;}#sk-container-id-1 pre{padding: 0;}#sk-container-id-1 div.sk-toggleable {background-color: white;}#sk-container-id-1 label.sk-toggleable__label {cursor: pointer;display: block;width: 100%;margin-bottom: 0;padding: 0.3em;box-sizing: border-box;text-align: center;}#sk-container-id-1 label.sk-toggleable__label-arrow:before {content: \"▸\";float: left;margin-right: 0.25em;color: #696969;}#sk-container-id-1 label.sk-toggleable__label-arrow:hover:before {color: black;}#sk-container-id-1 div.sk-estimator:hover label.sk-toggleable__label-arrow:before {color: black;}#sk-container-id-1 div.sk-toggleable__content {max-height: 0;max-width: 0;overflow: hidden;text-align: left;background-color: #f0f8ff;}#sk-container-id-1 div.sk-toggleable__content pre {margin: 0.2em;color: black;border-radius: 0.25em;background-color: #f0f8ff;}#sk-container-id-1 input.sk-toggleable__control:checked~div.sk-toggleable__content {max-height: 200px;max-width: 100%;overflow: auto;}#sk-container-id-1 input.sk-toggleable__control:checked~label.sk-toggleable__label-arrow:before {content: \"▾\";}#sk-container-id-1 div.sk-estimator input.sk-toggleable__control:checked~label.sk-toggleable__label {background-color: #d4ebff;}#sk-container-id-1 div.sk-label input.sk-toggleable__control:checked~label.sk-toggleable__label {background-color: #d4ebff;}#sk-container-id-1 input.sk-hidden--visually {border: 0;clip: rect(1px 1px 1px 1px);clip: rect(1px, 1px, 1px, 1px);height: 1px;margin: -1px;overflow: hidden;padding: 0;position: absolute;width: 1px;}#sk-container-id-1 div.sk-estimator {font-family: monospace;background-color: #f0f8ff;border: 1px dotted black;border-radius: 0.25em;box-sizing: border-box;margin-bottom: 0.5em;}#sk-container-id-1 div.sk-estimator:hover {background-color: #d4ebff;}#sk-container-id-1 div.sk-parallel-item::after {content: \"\";width: 100%;border-bottom: 1px solid gray;flex-grow: 1;}#sk-container-id-1 div.sk-label:hover label.sk-toggleable__label {background-color: #d4ebff;}#sk-container-id-1 div.sk-serial::before {content: \"\";position: absolute;border-left: 1px solid gray;box-sizing: border-box;top: 0;bottom: 0;left: 50%;z-index: 0;}#sk-container-id-1 div.sk-serial {display: flex;flex-direction: column;align-items: center;background-color: white;padding-right: 0.2em;padding-left: 0.2em;position: relative;}#sk-container-id-1 div.sk-item {position: relative;z-index: 1;}#sk-container-id-1 div.sk-parallel {display: flex;align-items: stretch;justify-content: center;background-color: white;position: relative;}#sk-container-id-1 div.sk-item::before, #sk-container-id-1 div.sk-parallel-item::before {content: \"\";position: absolute;border-left: 1px solid gray;box-sizing: border-box;top: 0;bottom: 0;left: 50%;z-index: -1;}#sk-container-id-1 div.sk-parallel-item {display: flex;flex-direction: column;z-index: 1;position: relative;background-color: white;}#sk-container-id-1 div.sk-parallel-item:first-child::after {align-self: flex-end;width: 50%;}#sk-container-id-1 div.sk-parallel-item:last-child::after {align-self: flex-start;width: 50%;}#sk-container-id-1 div.sk-parallel-item:only-child::after {width: 0;}#sk-container-id-1 div.sk-dashed-wrapped {border: 1px dashed gray;margin: 0 0.4em 0.5em 0.4em;box-sizing: border-box;padding-bottom: 0.4em;background-color: white;}#sk-container-id-1 div.sk-label label {font-family: monospace;font-weight: bold;display: inline-block;line-height: 1.2em;}#sk-container-id-1 div.sk-label-container {text-align: center;}#sk-container-id-1 div.sk-container {/* jupyter's `normalize.less` sets `[hidden] { display: none; }` but bootstrap.min.css set `[hidden] { display: none !important; }` so we also need the `!important` here to be able to override the default hidden behavior on the sphinx rendered scikit-learn.org. See: https://github.com/scikit-learn/scikit-learn/issues/21755 */display: inline-block !important;position: relative;}#sk-container-id-1 div.sk-text-repr-fallback {display: none;}</style><div id=\"sk-container-id-1\" class=\"sk-top-container\"><div class=\"sk-text-repr-fallback\"><pre>SVC(C=1, gamma=&#x27;auto&#x27;, probability=True)</pre><b>In a Jupyter environment, please rerun this cell to show the HTML representation or trust the notebook. <br />On GitHub, the HTML representation is unable to render, please try loading this page with nbviewer.org.</b></div><div class=\"sk-container\" hidden><div class=\"sk-item\"><div class=\"sk-estimator sk-toggleable\"><input class=\"sk-toggleable__control sk-hidden--visually\" id=\"sk-estimator-id-1\" type=\"checkbox\" checked><label for=\"sk-estimator-id-1\" class=\"sk-toggleable__label sk-toggleable__label-arrow\">SVC</label><div class=\"sk-toggleable__content\"><pre>SVC(C=1, gamma=&#x27;auto&#x27;, probability=True)</pre></div></div></div></div></div>"
            ]
          },
          "metadata": {},
          "execution_count": 14
        }
      ]
    },
    {
      "cell_type": "code",
      "source": [
        "def get_intent_ml(text):\n",
        "    doc = nlp(text)\n",
        "    return(clf.predict([doc.vector])[0])"
      ],
      "metadata": {
        "trusted": true,
        "id": "ZK0HuG_gkO1d"
      },
      "execution_count": null,
      "outputs": []
    },
    {
      "cell_type": "code",
      "source": [
        "responses_ml = {\n",
        "    \"internet_banking\":\"Go to your nearest branch of Ethiopian Commercial Bank. Make sure to bring your identification documents such as your ID card, passport, or any other required documents.\",\n",
        "    \"timings\": \"The bank opens at 10:00 hours and closes at 18:00 hours\",\n",
        "    \"default\":\"I did not understand. Please try again.\"\n",
        "}\n",
        "\n",
        "def respond_ml(text):\n",
        "    response = responses_ml.get(get_intent_ml(text), responses_ml[\"default\"])\n",
        "    return(output_format.format(input=text, output=response))"
      ],
      "metadata": {
        "trusted": true,
        "id": "JZqoEy1fkO1e"
      },
      "execution_count": null,
      "outputs": []
    },
    {
      "cell_type": "code",
      "source": [
        "print(respond_ml(\"How do I activate my net banking account?\"))\n",
        "print(respond_ml(\"When will the office be open?\"))\n",
        "print(respond_ml(\"How do I cancel my membership?\"))"
      ],
      "metadata": {
        "trusted": true,
        "colab": {
          "base_uri": "https://localhost:8080/"
        },
        "id": "cSfT7EeQkO1e",
        "outputId": "cf6dde1b-9ebe-421a-ac88-0708abddbd0a"
      },
      "execution_count": null,
      "outputs": [
        {
          "output_type": "stream",
          "name": "stdout",
          "text": [
            "You: How do I activate my net banking account?\n",
            "Virtual Assistant: You can contact the customer care at 9898999898 for queries regarding internet banking.\n",
            "__________________________________________________\n",
            "You: When will the office be open?\n",
            "Virtual Assistant: The bank opens at 10:00 hours and closes at 18:00 hours\n",
            "__________________________________________________\n",
            "You: How do I cancel my membership?\n",
            "Virtual Assistant: You can contact the customer care at 9898999898 for queries regarding internet banking.\n",
            "__________________________________________________\n"
          ]
        }
      ]
    },
    {
      "cell_type": "code",
      "source": [
        "def get_intent_ml_2(text):\n",
        "    \"\"\"\n",
        "        Returns the intent from a given text, unless the model is not sure, in which case 'default' is returned\n",
        "    \"\"\"\n",
        "    doc = nlp(text)\n",
        "    max_proba = max(clf.predict_proba([doc.vector])[0])\n",
        "    if(max_proba == 0.5):\n",
        "        return('default')\n",
        "    else:\n",
        "        return(clf.predict([doc.vector])[0])\n",
        "\n",
        "def respond_ml_2(text):\n",
        "    response = responses_ml.get(get_intent_ml_2(text), responses_ml[\"default\"])\n",
        "    return(output_format.format(input=text, output=response))"
      ],
      "metadata": {
        "trusted": true,
        "id": "pCG4tLTzkO1e"
      },
      "execution_count": null,
      "outputs": []
    },
    {
      "cell_type": "code",
      "source": [
        "print(respond_ml(  'credit'))\n",
        "print(respond_ml_2('credit'))"
      ],
      "metadata": {
        "trusted": true,
        "colab": {
          "base_uri": "https://localhost:8080/"
        },
        "id": "NFztY4UHkO1f",
        "outputId": "140540bd-59fd-4c83-f2c1-08557a9c0a54"
      },
      "execution_count": null,
      "outputs": [
        {
          "output_type": "stream",
          "name": "stdout",
          "text": [
            "You: credit\n",
            "Virtual Assistant: You can contact the customer care at 9898999898 for queries regarding internet banking.\n",
            "__________________________________________________\n",
            "You: credit\n",
            "Virtual Assistant: You can contact the customer care at 9898999898 for queries regarding internet banking.\n",
            "__________________________________________________\n"
          ]
        }
      ]
    },
    {
      "cell_type": "code",
      "source": [
        "def get_all_entities(text):\n",
        "    \"\"\"\n",
        "        Get all entities in a given text, in a text: label_ dictionary\n",
        "    \"\"\"\n",
        "    doc = nlp(text)\n",
        "    \n",
        "    d = defaultdict(list)\n",
        "    for ent in doc.ents:\n",
        "        d[ent.label_].append(ent.text)\n",
        "    return(d)"
      ],
      "metadata": {
        "trusted": true,
        "id": "nP5F4JUIkO1f"
      },
      "execution_count": null,
      "outputs": []
    },
    {
      "cell_type": "code",
      "source": [
        "test_ents = get_all_entities('when will the portal close tonight?, is the bank open on saturday and sunday?')\n",
        "print(sorted(test_ents.items()))"
      ],
      "metadata": {
        "trusted": true,
        "colab": {
          "base_uri": "https://localhost:8080/"
        },
        "id": "xKMpihv1kO1g",
        "outputId": "923c3949-36d8-4280-e845-8e39b4dbe693"
      },
      "execution_count": null,
      "outputs": [
        {
          "output_type": "stream",
          "name": "stdout",
          "text": [
            "[('DATE', ['saturday', 'sunday']), ('TIME', ['tonight'])]\n"
          ]
        }
      ]
    },
    {
      "cell_type": "code",
      "source": [
        "policy = {\n",
        "    (\"internet_banking\", \"time and date\"): \"You can contact the customer care at 9898999898 for queries regarding internet banking.\",\n",
        "    (\"internet_banking\", \"time only\"): \"You can contact the customer care at 9898999898 for queries regarding internet banking.\",\n",
        "    (\"internet_banking\", \"date only\"): \"You can contact the customer care at 9898999898 for queries regarding internet banking.\",\n",
        "    (\"internet_banking\", \"none\"): \"What?\",\n",
        "    (\"timings\", \"time and date\"): \"The bank opens at 10:00 hours and closes at 18:00 hours.(Monday to Friday)\",\n",
        "    (\"timings\", \"time only\"): \"The bank opens at 10:00 hours and closes at 18:00 hours.(Monday to Friday)\",\n",
        "    (\"timings\", \"date only\"): \"The bank opens at 10:00 hours and closes at 18:00 hours.(Monday to Friday)\",\n",
        "    (\"timings\", \"none\"): \"When?\",\n",
        "    (\"timings\", \"none\"): \"What do you want?\",\n",
        "}"
      ],
      "metadata": {
        "trusted": true,
        "id": "097G2158kO1g"
      },
      "execution_count": null,
      "outputs": []
    },
    {
      "cell_type": "code",
      "source": [
        "def respond_ml_3(text):\n",
        "    \"\"\"Check for specification of date and time\n",
        "        If not specified, ask for clarification\n",
        "    \"\"\"\n",
        "    intent = get_intent_ml_2(text)\n",
        "        \n",
        "    if intent != 'default':\n",
        "        entities = get_all_entities(text)\n",
        "        if 'TIME' in entities and 'DATE' in entities:\n",
        "            specification = 'time and date'\n",
        "            time = ' and '.join(entities['DATE']) + ' at ' + ' and '.join(entities['TIME'])\n",
        "        elif 'TIME' in entities:\n",
        "            specification = 'time only'\n",
        "            time = ' and '.join(entities['TIME'])\n",
        "        elif 'DATE' in entities:\n",
        "            specification = 'date only'\n",
        "            time = ' and '.join(entities['DATE'])\n",
        "        else:\n",
        "            specification = 'none'\n",
        "            time = \"\"\n",
        "    else:\n",
        "        specification = 'none'\n",
        "        time = \"\"\n",
        "    \n",
        "    response = policy.get((intent, specification)) + ' ' + time\n",
        "    return(output_format.format(input=text, output=response))"
      ],
      "metadata": {
        "trusted": true,
        "id": "JbjpKzGYkO1g"
      },
      "execution_count": null,
      "outputs": []
    },
    {
      "cell_type": "code",
      "source": [
        "preferences = {\"monday\": \"credit card applications\"}\n"
      ],
      "metadata": {
        "id": "CVZHFT9SlwHB"
      },
      "execution_count": 68,
      "outputs": []
    },
    {
      "cell_type": "code",
      "source": [
        "print(respond_ml_3(\"What are the timings for internet banking?\"))"
      ],
      "metadata": {
        "trusted": true,
        "colab": {
          "base_uri": "https://localhost:8080/"
        },
        "id": "9-yxhBS_kO1h",
        "outputId": "0c6b473b-955b-413b-dfaf-cd072f023179"
      },
      "execution_count": 72,
      "outputs": [
        {
          "output_type": "stream",
          "name": "stdout",
          "text": [
            "You: What are the timings for internet banking?\n",
            "Virtual Assistant: What do you want? \n",
            "__________________________________________________\n"
          ]
        }
      ]
    }
  ]
}